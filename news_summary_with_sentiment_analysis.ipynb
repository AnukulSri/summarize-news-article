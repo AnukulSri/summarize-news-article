{
 "cells": [
  {
   "cell_type": "markdown",
   "metadata": {},
   "source": [
    "- nltk.download('punkt') is a Python command that is used to download the \"punkt\" dataset or resource from the Natural Language Toolkit (NLTK) library. \n",
    "- NLTK is a popular library in Python for working with human language data, including tasks like tokenization, parsing, and text classification.\n",
    "- The \"punkt\" dataset in NLTK contains pre-trained models and data necessary for tokenization, which is the process of breaking down a text into individual words or tokens. \n",
    "- These pre-trained models can be used to tokenize text in various languages, making it easier to work with natural language data in your Python projects."
   ]
  },
  {
   "cell_type": "code",
   "execution_count": 8,
   "metadata": {},
   "outputs": [],
   "source": [
    "import nltk\n",
    "from newspaper import Article\n",
    "from textblob import TextBlob"
   ]
  },
  {
   "cell_type": "code",
   "execution_count": 9,
   "metadata": {},
   "outputs": [],
   "source": [
    "query = input()"
   ]
  },
  {
   "cell_type": "code",
   "execution_count": 10,
   "metadata": {},
   "outputs": [
    {
     "name": "stderr",
     "output_type": "stream",
     "text": [
      "[nltk_data] Downloading package punkt to\n",
      "[nltk_data]     C:\\Users\\anuku\\AppData\\Roaming\\nltk_data...\n",
      "[nltk_data]   Package punkt is already up-to-date!\n"
     ]
    }
   ],
   "source": [
    "nltk.download('punkt')\n",
    "url=f'{query}'\n",
    "article = Article(url)\n",
    "article.download()\n",
    "article.parse()\n",
    "article.nlp()\n"
   ]
  },
  {
   "cell_type": "code",
   "execution_count": 14,
   "metadata": {},
   "outputs": [
    {
     "name": "stdout",
     "output_type": "stream",
     "text": [
      "Title: Not iPhone 15 Pro’s titanium chassis but these 2 things wowed us during Apple event\n",
      "\n",
      "Authors: ['Anuj Bhatia', 'Var Template_Content', 'Sso_Login_Box', 'Xwelcome Backorenter The Email Address Or Mobile Number Associated With Your Account To Sign In. Show Passwordsign Innew To The Indian Express Signupxcreate Your Account It Is Quick', 'Easy.Or Show Passwordnextvalidate Otpregisteralready Have An Account', 'Signin', 'Sso_Social_Box', 'Sign In Withgmailfacebookapple', 'Var Follow_Widget_Data', 'Af_Article_Count']\n",
      "\n",
      "Publish Date: 2023-09-13 19:30:57+05:30\n",
      "\n",
      "Summary: From Apple Watch Series 9 and Ultra 2’s Double Tap feature to iPhone 15 Pro’s “spatial video” capture, here are two moments that impressed us.\n",
      "(Image: Apple)Some may find it gimmicky at first but it’s a clever way to control certain features on the Apple Watch hands-free.\n",
      "Both the newly launched iPhone 15 Pro and 15 Pro Max can capture spatial videos, making the iPhone doubles as a 3D camera.\n",
      "Apple has confirmed that users can find spatial videos on the iPhone and watch them on the Vision Pro headset.\n",
      "Still, it is a big deal for those who are planning to buy both the iPhone 15 Pro and the Vision Pro headset, especially film-makers, content creators, and YouTubers.\n"
     ]
    }
   ],
   "source": [
    "print(f'Title: {article.title}\\n',)\n",
    "print(f'Authors: {article.authors}\\n')\n",
    "print(f'Publish Date: {article.publish_date}\\n')\n",
    "print(f'Summary: {article.summary}')\n"
   ]
  },
  {
   "cell_type": "code",
   "execution_count": 12,
   "metadata": {},
   "outputs": [
    {
     "name": "stdout",
     "output_type": "stream",
     "text": [
      "Positive\n"
     ]
    }
   ],
   "source": [
    "analysis = TextBlob(article.text)\n",
    "polarity = analysis.polarity\n",
    "if polarity > 0:\n",
    "    print(\"Positive\")\n",
    "elif polarity == 0:\n",
    "    print(\"Neutral\")\n",
    "else:\n",
    "    print(\"Negative\")"
   ]
  }
 ],
 "metadata": {
  "kernelspec": {
   "display_name": "base",
   "language": "python",
   "name": "python3"
  },
  "language_info": {
   "codemirror_mode": {
    "name": "ipython",
    "version": 3
   },
   "file_extension": ".py",
   "mimetype": "text/x-python",
   "name": "python",
   "nbconvert_exporter": "python",
   "pygments_lexer": "ipython3",
   "version": "3.9.12"
  },
  "orig_nbformat": 4
 },
 "nbformat": 4,
 "nbformat_minor": 2
}
